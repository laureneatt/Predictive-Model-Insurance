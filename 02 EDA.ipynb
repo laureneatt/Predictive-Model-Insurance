{
 "cells": [
  {
   "cell_type": "markdown",
   "id": "59fc704a-5c08-42d4-9469-15b26f2d761e",
   "metadata": {},
   "source": [
    "# 🧪 Analyse Exploratoire des Données (EDA)\n",
    "\n",
    "## 📌 Introduction\n",
    "\n",
    "Dans ce notebook, nous allons réaliser une **analyse exploratoire des données (EDA)** sur un jeu de données. L'objectif est de mieux comprendre la structure des données, les relations entre les variables, les valeurs manquantes, les valeurs aberrantes et d'autres caractéristiques qui nous permettront de préparer les données pour un modèle prédictif.\n",
    "\n",
    "## 📚 Table des Matières\n",
    "\n",
    "1. [Importation des Librairies et Données](#1)\n",
    "2. [Séparation de la Base](#2)\n",
    "   - 2.1 [Création des jeux d'entraînement et de test](#2.1)\n",
    "3. [Analyse de Départ](#3)\n",
    "   - 3.1 [Aperçu des données](#3.1)\n",
    "   - 3.2 [Répartition de la variable Cible](#3.2)\n",
    "   - 3.3 [Descriptif des variables](#3.3)\n",
    "   - 3.4 [Nombre de modalités par variable catégorielle](#3.4)\n",
    "   - 3.5 [Types des variables](#3.5)\n",
    "   - 3.6 [Conversion des dates](#3.6)\n",
    "   - 3.7 [Données manquantes](#3.7)\n",
    "4. [Analyse des Variables](#4)\n",
    "   - 4.1 [Variables Binaires](#4.1)\n",
    "   - 4.2 [Variables Quantitatives](#4.2)\n",
    "   - 4.3 [Transformation des Variables de Date](#4.3)\n",
    "5. [Traitement des Valeurs Manquantes](#5)\n",
    "6. [Visualisation et Conclusion](#6)\n"
   ]
  },
  {
   "cell_type": "markdown",
   "id": "18f7cb7a-f1d5-4ab7-9e89-b75fe244bdc2",
   "metadata": {},
   "source": [
    "## 1. 📥 Importation des Librairies et Données <a name=\"1\"></a>"
   ]
  },
  {
   "cell_type": "code",
   "execution_count": 17,
   "id": "15928585-f51d-4e53-a21e-1cc5333919bb",
   "metadata": {},
   "outputs": [],
   "source": [
    "# Import des librairies\n",
    "\n",
    "import pandas as pd\n",
    "\n",
    "import numpy as np\n",
    "\n",
    "import random\n",
    "\n",
    "from datetime import datetime\n",
    "\n",
    "import matplotlib.pyplot as plt\n",
    "\n",
    "import seaborn as sns\n",
    "\n",
    "%matplotlib inline\n",
    "\n",
    "# Import de la base de données\n",
    "\n",
    "df = pd.read_csv('base.csv')"
   ]
  },
  {
   "cell_type": "markdown",
   "id": "6c119afc-be71-47fc-847a-fd96df112cc6",
   "metadata": {},
   "source": [
    "## 2. ✂️ Séparation de la Base <a name=\"2\"></a>\n",
    "\n",
    "### 2.1 Création des jeux d'entraînement et de test <a name=\"2.1\"></a>\n",
    "\n",
    "Nous appliquons la technique de hold-out pour diviser la base en deux parties : une base d'entraînement et une base de test. La base de test doit être un échantillon représentant 10% de la base. Après cela, nous sauvegardons les deux jeux de données dans des fichiers CSV pour une utilisation ultérieure."
   ]
  },
  {
   "cell_type": "code",
   "execution_count": 12,
   "id": "e276edb7-8841-4db8-8b4c-8a0e79c017c6",
   "metadata": {},
   "outputs": [],
   "source": [
    "# Base test\n",
    "\n",
    "test = df.sample(frac=0.1, random_state=42)\n",
    "\n",
    "# Export de la base de test\n",
    "\n",
    "test.to_csv(\"test_raw_copy.csv\", index=False)\n",
    "\n",
    "# Base d'entraînement\n",
    "\n",
    "train = df.drop(test.index)\n",
    "\n",
    "# Export de la base d'entraînement\n",
    "\n",
    "train.to_csv(\"train_raw.csv_copy\", index=False)"
   ]
  },
  {
   "cell_type": "markdown",
   "id": "1c44f702-0800-4a03-95e8-f5f4ab3f11c5",
   "metadata": {},
   "source": [
    "## 3. 🔍 Analyse de Départ <a name=\"3\"></a>\n",
    "\n",
    "### 3.1 Aperçu des données <a name=\"3.1\"></a>"
   ]
  },
  {
   "cell_type": "markdown",
   "id": "6f90a597-b205-4f58-a57e-f6e603e9e614",
   "metadata": {},
   "source": [
    "Nous travaillerons uniquement avec la base train, la base test est laissée de côté.\n",
    "\n",
    "Visualisons les premières lignes de notre dataframe afin d'avoir une vision d'ensemble de nos variables."
   ]
  },
  {
   "cell_type": "code",
   "execution_count": 4,
   "id": "6ecbe76d-dc2b-400c-ac92-ec90ea7cee91",
   "metadata": {},
   "outputs": [
    {
     "data": {
      "text/html": [
       "<div>\n",
       "<style scoped>\n",
       "    .dataframe tbody tr th:only-of-type {\n",
       "        vertical-align: middle;\n",
       "    }\n",
       "\n",
       "    .dataframe tbody tr th {\n",
       "        vertical-align: top;\n",
       "    }\n",
       "\n",
       "    .dataframe thead th {\n",
       "        text-align: right;\n",
       "    }\n",
       "</style>\n",
       "<table border=\"1\" class=\"dataframe\">\n",
       "  <thead>\n",
       "    <tr style=\"text-align: right;\">\n",
       "      <th></th>\n",
       "      <th>id</th>\n",
       "      <th>Gender</th>\n",
       "      <th>Age</th>\n",
       "      <th>Driving_License</th>\n",
       "      <th>Region_Code</th>\n",
       "      <th>Previously_Insured</th>\n",
       "      <th>Vehicle_Damage</th>\n",
       "      <th>Annual_Premium</th>\n",
       "      <th>Policy_Sales_Channel</th>\n",
       "      <th>Vintage</th>\n",
       "      <th>Response</th>\n",
       "      <th>Vehicle_Date</th>\n",
       "      <th>Signature_Date</th>\n",
       "    </tr>\n",
       "  </thead>\n",
       "  <tbody>\n",
       "    <tr>\n",
       "      <th>0</th>\n",
       "      <td>1</td>\n",
       "      <td>NaN</td>\n",
       "      <td>44</td>\n",
       "      <td>1</td>\n",
       "      <td>28</td>\n",
       "      <td>0</td>\n",
       "      <td>1</td>\n",
       "      <td>40454</td>\n",
       "      <td>26.0</td>\n",
       "      <td>217</td>\n",
       "      <td>1</td>\n",
       "      <td>1411164000</td>\n",
       "      <td>1.550099e+12</td>\n",
       "    </tr>\n",
       "    <tr>\n",
       "      <th>1</th>\n",
       "      <td>2</td>\n",
       "      <td>0.0</td>\n",
       "      <td>76</td>\n",
       "      <td>1</td>\n",
       "      <td>3</td>\n",
       "      <td>0</td>\n",
       "      <td>0</td>\n",
       "      <td>33536</td>\n",
       "      <td>26.0</td>\n",
       "      <td>183</td>\n",
       "      <td>0</td>\n",
       "      <td>1488841200</td>\n",
       "      <td>NaN</td>\n",
       "    </tr>\n",
       "    <tr>\n",
       "      <th>2</th>\n",
       "      <td>3</td>\n",
       "      <td>0.0</td>\n",
       "      <td>47</td>\n",
       "      <td>1</td>\n",
       "      <td>28</td>\n",
       "      <td>0</td>\n",
       "      <td>1</td>\n",
       "      <td>38294</td>\n",
       "      <td>26.0</td>\n",
       "      <td>27</td>\n",
       "      <td>1</td>\n",
       "      <td>1459202400</td>\n",
       "      <td>1.570486e+12</td>\n",
       "    </tr>\n",
       "    <tr>\n",
       "      <th>3</th>\n",
       "      <td>4</td>\n",
       "      <td>0.0</td>\n",
       "      <td>21</td>\n",
       "      <td>1</td>\n",
       "      <td>11</td>\n",
       "      <td>1</td>\n",
       "      <td>0</td>\n",
       "      <td>28619</td>\n",
       "      <td>152.0</td>\n",
       "      <td>203</td>\n",
       "      <td>0</td>\n",
       "      <td>1515884400</td>\n",
       "      <td>NaN</td>\n",
       "    </tr>\n",
       "    <tr>\n",
       "      <th>4</th>\n",
       "      <td>5</td>\n",
       "      <td>1.0</td>\n",
       "      <td>29</td>\n",
       "      <td>1</td>\n",
       "      <td>41</td>\n",
       "      <td>1</td>\n",
       "      <td>0</td>\n",
       "      <td>27496</td>\n",
       "      <td>152.0</td>\n",
       "      <td>39</td>\n",
       "      <td>0</td>\n",
       "      <td>1528754400</td>\n",
       "      <td>NaN</td>\n",
       "    </tr>\n",
       "    <tr>\n",
       "      <th>5</th>\n",
       "      <td>6</td>\n",
       "      <td>1.0</td>\n",
       "      <td>24</td>\n",
       "      <td>1</td>\n",
       "      <td>33</td>\n",
       "      <td>0</td>\n",
       "      <td>1</td>\n",
       "      <td>2630</td>\n",
       "      <td>160.0</td>\n",
       "      <td>176</td>\n",
       "      <td>0</td>\n",
       "      <td>1526594400</td>\n",
       "      <td>NaN</td>\n",
       "    </tr>\n",
       "    <tr>\n",
       "      <th>6</th>\n",
       "      <td>7</td>\n",
       "      <td>0.0</td>\n",
       "      <td>23</td>\n",
       "      <td>1</td>\n",
       "      <td>11</td>\n",
       "      <td>0</td>\n",
       "      <td>1</td>\n",
       "      <td>23367</td>\n",
       "      <td>152.0</td>\n",
       "      <td>249</td>\n",
       "      <td>0</td>\n",
       "      <td>1537999200</td>\n",
       "      <td>NaN</td>\n",
       "    </tr>\n",
       "    <tr>\n",
       "      <th>7</th>\n",
       "      <td>8</td>\n",
       "      <td>1.0</td>\n",
       "      <td>56</td>\n",
       "      <td>1</td>\n",
       "      <td>28</td>\n",
       "      <td>0</td>\n",
       "      <td>1</td>\n",
       "      <td>32031</td>\n",
       "      <td>26.0</td>\n",
       "      <td>72</td>\n",
       "      <td>1</td>\n",
       "      <td>1504562400</td>\n",
       "      <td>1.558735e+12</td>\n",
       "    </tr>\n",
       "    <tr>\n",
       "      <th>8</th>\n",
       "      <td>9</td>\n",
       "      <td>1.0</td>\n",
       "      <td>24</td>\n",
       "      <td>1</td>\n",
       "      <td>3</td>\n",
       "      <td>1</td>\n",
       "      <td>0</td>\n",
       "      <td>27619</td>\n",
       "      <td>152.0</td>\n",
       "      <td>28</td>\n",
       "      <td>0</td>\n",
       "      <td>1517958000</td>\n",
       "      <td>NaN</td>\n",
       "    </tr>\n",
       "    <tr>\n",
       "      <th>9</th>\n",
       "      <td>10</td>\n",
       "      <td>1.0</td>\n",
       "      <td>32</td>\n",
       "      <td>1</td>\n",
       "      <td>6</td>\n",
       "      <td>1</td>\n",
       "      <td>0</td>\n",
       "      <td>28771</td>\n",
       "      <td>152.0</td>\n",
       "      <td>80</td>\n",
       "      <td>0</td>\n",
       "      <td>1515970800</td>\n",
       "      <td>NaN</td>\n",
       "    </tr>\n",
       "  </tbody>\n",
       "</table>\n",
       "</div>"
      ],
      "text/plain": [
       "   id  Gender  Age  Driving_License  Region_Code  Previously_Insured  \\\n",
       "0   1     NaN   44                1           28                   0   \n",
       "1   2     0.0   76                1            3                   0   \n",
       "2   3     0.0   47                1           28                   0   \n",
       "3   4     0.0   21                1           11                   1   \n",
       "4   5     1.0   29                1           41                   1   \n",
       "5   6     1.0   24                1           33                   0   \n",
       "6   7     0.0   23                1           11                   0   \n",
       "7   8     1.0   56                1           28                   0   \n",
       "8   9     1.0   24                1            3                   1   \n",
       "9  10     1.0   32                1            6                   1   \n",
       "\n",
       "   Vehicle_Damage  Annual_Premium  Policy_Sales_Channel  Vintage  Response  \\\n",
       "0               1           40454                  26.0      217         1   \n",
       "1               0           33536                  26.0      183         0   \n",
       "2               1           38294                  26.0       27         1   \n",
       "3               0           28619                 152.0      203         0   \n",
       "4               0           27496                 152.0       39         0   \n",
       "5               1            2630                 160.0      176         0   \n",
       "6               1           23367                 152.0      249         0   \n",
       "7               1           32031                  26.0       72         1   \n",
       "8               0           27619                 152.0       28         0   \n",
       "9               0           28771                 152.0       80         0   \n",
       "\n",
       "   Vehicle_Date  Signature_Date  \n",
       "0    1411164000    1.550099e+12  \n",
       "1    1488841200             NaN  \n",
       "2    1459202400    1.570486e+12  \n",
       "3    1515884400             NaN  \n",
       "4    1528754400             NaN  \n",
       "5    1526594400             NaN  \n",
       "6    1537999200             NaN  \n",
       "7    1504562400    1.558735e+12  \n",
       "8    1517958000             NaN  \n",
       "9    1515970800             NaN  "
      ]
     },
     "execution_count": 4,
     "metadata": {},
     "output_type": "execute_result"
    }
   ],
   "source": [
    "# Affichage des 10 premières lignes\n",
    "\n",
    "train.head(10)"
   ]
  },
  {
   "cell_type": "markdown",
   "id": "7e58f8f9-6751-4a37-a419-bdf5ae89fe44",
   "metadata": {},
   "source": [
    "### 3.2 Répartition de la variable cible <a name=\"3.2\"></a>"
   ]
  },
  {
   "cell_type": "code",
   "execution_count": 5,
   "id": "677117d8-6ce4-4747-bc59-0b4481ef9c82",
   "metadata": {},
   "outputs": [
    {
     "data": {
      "text/plain": [
       "Response\n",
       "0    301071\n",
       "1     41927\n",
       "Name: count, dtype: int64"
      ]
     },
     "execution_count": 5,
     "metadata": {},
     "output_type": "execute_result"
    }
   ],
   "source": [
    "# Proportion de clients qui ont souscrit et qui n'ont pas souscrit \n",
    "\n",
    "train[\"Response\"].value_counts()"
   ]
  },
  {
   "cell_type": "markdown",
   "id": "1e52b9dd-801c-457b-bf44-7998b2498bae",
   "metadata": {},
   "source": [
    "📌 La variable cible est déséquilibrée : peu de clients ont souscrit au produit."
   ]
  },
  {
   "cell_type": "markdown",
   "id": "6fda3889-acf1-4d6d-b90d-9d734de65aab",
   "metadata": {},
   "source": [
    "### 3.3 Descriptif des variables <a name=\"3.3\"></a>"
   ]
  },
  {
   "cell_type": "markdown",
   "id": "98e68a59-b8dc-43c0-9c6b-dc6266241972",
   "metadata": {},
   "source": [
    "- Qualitatives : Gender, Driving_License, Region_Code, Previously_Insured, Vehicle_Damage, Policy_Sales_Channel\n",
    "\n",
    "- Quantitatives : Vintage, Age, Annual_Premium\n",
    "\n",
    "- Dates (catégorielles ordinales) : Signature_Date, Vehicle_Date\n"
   ]
  },
  {
   "cell_type": "markdown",
   "id": "5d635958-2eea-4bc1-9df4-939246ee2e3e",
   "metadata": {},
   "source": [
    "Nombre de modalités par variable catégorielle <a name=\"3.4\"></a>"
   ]
  },
  {
   "cell_type": "code",
   "execution_count": 9,
   "id": "39f0f1f6-437c-45ee-aafc-70b9a0a4f831",
   "metadata": {},
   "outputs": [
    {
     "data": {
      "text/plain": [
       "Gender                    2\n",
       "Driving_License           2\n",
       "Region_Code              53\n",
       "Previously_Insured        2\n",
       "Vehicle_Damage            2\n",
       "Policy_Sales_Channel    154\n",
       "dtype: int64"
      ]
     },
     "execution_count": 9,
     "metadata": {},
     "output_type": "execute_result"
    }
   ],
   "source": [
    "# On affiche le nombre de catégories par variable\n",
    "\n",
    "train[[\"Gender\", \"Driving_License\", \"Region_Code\", \"Previously_Insured\",\n",
    "       \"Vehicle_Damage\", \"Policy_Sales_Channel\"]].nunique()"
   ]
  },
  {
   "cell_type": "markdown",
   "id": "6e900d10-8c07-42e2-8942-b31bc09da7ac",
   "metadata": {},
   "source": [
    "On constate qu'il y a 4 variables binaires et 2 variables avec plus de 2 catégories : Region_Code et Policy_Sales_Channel. Ces informations nous serons utiles lorsque nous allons devoir analyser ces variables plus attentivement dans la suite du notebook.\n",
    "\n",
    "Nous allons maintenant vérifier le type des variables présentes dans la base ainsi que le nombre de valeurs manquantes."
   ]
  },
  {
   "cell_type": "markdown",
   "id": "228b5c8d-d84a-4e32-994e-086bc32ec349",
   "metadata": {},
   "source": [
    "### 3.5 Types des variables <a name=\"3.5\"></a>"
   ]
  },
  {
   "cell_type": "code",
   "execution_count": 11,
   "id": "a97d1158-4c46-443d-a217-5f1020d8124d",
   "metadata": {},
   "outputs": [
    {
     "name": "stdout",
     "output_type": "stream",
     "text": [
      "<class 'pandas.core.frame.DataFrame'>\n",
      "Index: 342998 entries, 0 to 381108\n",
      "Data columns (total 13 columns):\n",
      " #   Column                Non-Null Count   Dtype  \n",
      "---  ------                --------------   -----  \n",
      " 0   id                    342998 non-null  int64  \n",
      " 1   Gender                325846 non-null  float64\n",
      " 2   Age                   342998 non-null  int64  \n",
      " 3   Driving_License       342998 non-null  int64  \n",
      " 4   Region_Code           342998 non-null  int64  \n",
      " 5   Previously_Insured    342998 non-null  int64  \n",
      " 6   Vehicle_Damage        342998 non-null  int64  \n",
      " 7   Annual_Premium        342998 non-null  int64  \n",
      " 8   Policy_Sales_Channel  325764 non-null  float64\n",
      " 9   Vintage               342998 non-null  int64  \n",
      " 10  Response              342998 non-null  int64  \n",
      " 11  Vehicle_Date          342998 non-null  int64  \n",
      " 12  Signature_Date        41927 non-null   float64\n",
      "dtypes: float64(3), int64(10)\n",
      "memory usage: 36.6 MB\n"
     ]
    }
   ],
   "source": [
    "train.info()"
   ]
  },
  {
   "cell_type": "markdown",
   "id": "67bf5f31-6363-487c-b4ca-c2287c6849cc",
   "metadata": {},
   "source": [
    "On constate qu'il n'y a que des variables numériques et qu'il n'y a donc pas de variables textuelles dans la base. \n",
    "A noter qu'en présence de variables textuelles, un réencodage est nécessaire car la plupart des algorithmes ne prennent pas en charge les variables non numériques.\n",
    "\n",
    "Nous remarquons également que nos deux variables de date Vehicle_Date et Signature_Date ne sont pas de type date.\n"
   ]
  },
  {
   "cell_type": "markdown",
   "id": "fe019bc4-b954-4a63-b3a0-03c6a6e5d503",
   "metadata": {},
   "source": [
    "### 3.6 Conversion des dates <a name=\"3.6\"></a>"
   ]
  },
  {
   "cell_type": "code",
   "execution_count": 13,
   "id": "5f50c696-ed42-4c2c-b737-f4e1d6009b62",
   "metadata": {},
   "outputs": [],
   "source": [
    "# Timestamp exprimé en secondes\n",
    "\n",
    "train[\"Vehicle_Date\"] = pd.to_datetime(train[\"Vehicle_Date\"], unit='s')\n",
    "\n",
    "# Timestamp exprimé en millisecondes\n",
    "\n",
    "train[\"Signature_Date\"] = pd.to_datetime(train[\"Signature_Date\"], unit='ms')"
   ]
  },
  {
   "cell_type": "markdown",
   "id": "45ffb39d-6e78-46c5-8b78-20f667e396b2",
   "metadata": {},
   "source": [
    "### 3.7 Données manquantes <a name=\"3.7\"></a>"
   ]
  },
  {
   "cell_type": "code",
   "execution_count": 16,
   "id": "7e5e76b1-a502-4174-96f4-62d08324c455",
   "metadata": {},
   "outputs": [
    {
     "data": {
      "text/plain": [
       "id                      0.000000\n",
       "Gender                  0.050006\n",
       "Age                     0.000000\n",
       "Driving_License         0.000000\n",
       "Region_Code             0.000000\n",
       "Previously_Insured      0.000000\n",
       "Vehicle_Damage          0.000000\n",
       "Annual_Premium          0.000000\n",
       "Policy_Sales_Channel    0.050245\n",
       "Vintage                 0.000000\n",
       "Response                0.000000\n",
       "Vehicle_Date            0.000000\n",
       "Signature_Date          0.877763\n",
       "dtype: float64"
      ]
     },
     "execution_count": 16,
     "metadata": {},
     "output_type": "execute_result"
    }
   ],
   "source": [
    "# Affichage des valeurs manquantes pour chaque variable \n",
    "train.isna().sum()/len(train)"
   ]
  },
  {
   "cell_type": "markdown",
   "id": "c97255fb-fa06-4285-8717-079c2f8eab39",
   "metadata": {},
   "source": [
    "🔍 Trois variables comportent des valeurs manquantes : Gender, Policy_Sales_Channel, et Signature_Date."
   ]
  },
  {
   "cell_type": "code",
   "execution_count": null,
   "id": "e365aa23-0ce9-4bb2-ab0e-81e696ea6d0e",
   "metadata": {},
   "outputs": [],
   "source": []
  }
 ],
 "metadata": {
  "kernelspec": {
   "display_name": "Python 3 (ipykernel)",
   "language": "python",
   "name": "python3"
  },
  "language_info": {
   "codemirror_mode": {
    "name": "ipython",
    "version": 3
   },
   "file_extension": ".py",
   "mimetype": "text/x-python",
   "name": "python",
   "nbconvert_exporter": "python",
   "pygments_lexer": "ipython3",
   "version": "3.11.7"
  }
 },
 "nbformat": 4,
 "nbformat_minor": 5
}
